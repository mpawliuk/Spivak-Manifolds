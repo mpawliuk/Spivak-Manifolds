{
 "cells": [
  {
   "cell_type": "markdown",
   "metadata": {},
   "source": [
    "1-6(a) Let $f,g$ be integrable on $[a,b]$.  Show that $\\left|\\int_a^b f\\cdot g\\right| \\leqslant \\left(\\int_a^b f^2\\right)^{1/2}\\left(\\int_a^b g^2\\right)^{1/2}$\n",
    "\n",
    "1) Suppose that $0 < \\int_a^b (f-\\lambda g)^2$ for all $\\lambda \\in \\mathbb{R}$.  Then we have\n",
    "$$ 0 < \\lambda^2 \\int_a^b g^2 - 2\\lambda \\int_a^b fg + \\int_a^b f^2 ,$$\n",
    "which means this quadratic has no solution in $\\mathbb{R}$, and hence, the discriminant must be complex.  We then have:\n",
    "$$ \\begin{align*}\n",
    " 4\\left(\\int_a^b fg\\right)^2 &- 4\\int_a^bg^2\\int_a^bf^2 < 0 \\\\\n",
    " \\Rightarrow\\,\\, \\left(\\int_a^b fg\\right)^2 &< \\int_a^bg^2\\int_a^bf^2 \\\\\n",
    " \\Rightarrow \\,\\,  \\left| \\int_a^bfg \\right| &< \\left(\\int_a^bf^2\\right)^{1/2}\\left(\\int_a^bg^2\\right)^{1/2}\n",
    " \\end{align*} $$\n",
    "\n",
    " 2) Suppose that $ 0 = \\int_a^b (f-\\lambda g)^2)$ for some $\\lambda \\in \\mathbb{R}$.  Once again, we get the quadratic\n",
    "$$ 0 = \\lambda^2 \\int_a^b g^2 - 2\\lambda \\int_a^b fg + \\int_a^b f^2 ,$$\n",
    "but in particular, **this quadratic can only have one root, because if it had two, then the function would be negative at some point, but $\\int_a^b (f-\\lambda g)^2$ is always non-negative**.<br>\n",
    "Consequently, the discriminant must be 0, and hence:\n",
    "\n",
    "$$ \\begin{align*}\n",
    " 4\\left(\\int_a^b fg\\right)^2 &- 4\\int_a^bg^2\\int_a^bf^2 = 0 \\\\\n",
    " \\Rightarrow\\,\\, \\left(\\int_a^b fg\\right)^2 &= \\int_a^bg^2\\int_a^bf^2 \\\\\n",
    " \\Rightarrow \\,\\,  \\left| \\int_a^bfg \\right| &= \\left(\\int_a^bf^2\\right)^{1/2}\\left(\\int_a^bg^2\\right)^{1/2}\n",
    " \\end{align*} $$\n",
    "\n"
   ]
  }
 ],
 "metadata": {
  "kernelspec": {
   "display_name": "Python 3",
   "language": "python",
   "name": "python3"
  },
  "language_info": {
   "codemirror_mode": {
    "name": "ipython",
    "version": 3
   },
   "file_extension": ".py",
   "mimetype": "text/x-python",
   "name": "python",
   "nbconvert_exporter": "python",
   "pygments_lexer": "ipython3",
   "version": "3.6.8"
  }
 },
 "nbformat": 4,
 "nbformat_minor": 2
}

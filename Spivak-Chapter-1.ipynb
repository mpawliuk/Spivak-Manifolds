{
 "cells": [
  {
   "cell_type": "markdown",
   "metadata": {},
   "source": [
    "# Chapter 1 - Functions on Euclidean Space\n",
    "\n",
    "## 1.1 Norm and Inner Product\n",
    "\n",
    "Lorem Ipsum"
   ]
  },
  {
   "cell_type": "code",
   "execution_count": 1,
   "metadata": {},
   "outputs": [],
   "source": [
    "def euclid_norm(x):\n",
    "    \"\"\" Return the Euclidean norm\n",
    "    euclid_norm((2,2,-1))\n",
    "    > 3.0\n",
    "    \"\"\"\n",
    "    return sum([xi**2 for xi in x])**0.5"
   ]
  },
  {
   "cell_type": "raw",
   "metadata": {},
   "source": [
    "## 1.2 Subsets of Euclidean Space\n",
    "\n",
    "Lorem Ipsum\n",
    "\n",
    "## 1.3 Functions and Continuity\n",
    "\n",
    "Lorem Ipsum"
   ]
  }
 ],
 "metadata": {
  "kernelspec": {
   "display_name": "Python 3",
   "language": "python",
   "name": "python3"
  },
  "language_info": {
   "codemirror_mode": {
    "name": "ipython",
    "version": 3
   },
   "file_extension": ".py",
   "mimetype": "text/x-python",
   "name": "python",
   "nbconvert_exporter": "python",
   "pygments_lexer": "ipython3",
   "version": "3.6.8"
  }
 },
 "nbformat": 4,
 "nbformat_minor": 2
}

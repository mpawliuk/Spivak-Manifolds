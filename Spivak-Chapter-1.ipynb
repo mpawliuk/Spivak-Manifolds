{
 "cells": [
  {
   "cell_type": "markdown",
   "metadata": {},
   "source": [
    "# Chapter 1 - Functions on Euclidean Space\n",
    "\n",
    "## 1.1 Norm and Inner Product\n",
    "\n",
    "Here the relevant notions related to linear algebra are defined:\n",
    "\n",
    "* $\\mathbb{R}^n$,\n",
    "* The Euclidean norm,\n",
    "* The standard inner product on $\\mathbb{R}^n$,\n",
    "* The usual basis $e_1, \\ldots, e_n$ for $\\mathbb{R}^n$.\n",
    "* Linear transformations $T: \\mathbb{R}^n \\to \\mathbb{R}^m$.\n",
    "* Concatenation notation.\n",
    "\n",
    "The theorems proved in this section are mostly inequalities like [Cauchy-Shwarz](https://en.wikipedia.org/wiki/Cauchy%E2%80%93Schwarz_inequality), and facts relating the Euclidean norm to the inner-product.\n",
    "\n",
    "In the exercises, the following are defined:\n",
    "\n",
    "* (Euclidean) Distance between two points in $\\mathbb{R}^n$,\n",
    "* Norm preserving linear transformations,\n",
    "* Inner product preserving,\n",
    "* Angle preserving linear transformations.\n",
    "\n",
    "### 1.1.1 Python scripts"
   ]
  },
  {
   "cell_type": "code",
   "execution_count": 7,
   "metadata": {},
   "outputs": [],
   "source": [
    "import math\n",
    "\n",
    "def euclid_norm(x):\n",
    "    \"\"\" Return the Euclidean norm.\n",
    "    -x in R^n for some n\n",
    "    >>> euclid_norm((2,2,-1))\n",
    "    3.0\n",
    "    \"\"\"\n",
    "    return sum([xi**2 for xi in x])**0.5\n",
    "\n",
    "def inner_product(x,y):\n",
    "    \"\"\" Return the inner product of x and y.\n",
    "    -x,y in R^n for some n (must be the same)\n",
    "    >>> inner_product((2,3,4),(1,2,3))\n",
    "    20\n",
    "    \"\"\"\n",
    "    n = len(x)\n",
    "    return sum([x[i]*y[i] for i in range(n)])\n",
    "\n",
    "def angle(x,y):\n",
    "    \"\"\" Return the angle between x and y.\n",
    "    -x,y in R^n for some n (must be the same)\n",
    "    >>> angle((1,0),(0,1))\n",
    "    1.5707963267948966\n",
    "    \"\"\"\n",
    "    return math.acos(inner_product(x,y) / ( euclid_norm(x)*euclid_norm(y) ))\n",
    "\n",
    "def euclid_distance(x,y):\n",
    "    \"\"\" Return the distance between x,y.\n",
    "    -x,y in R^n for some n (must be the same)\n",
    "    >>> euclid_distance((2,3,4),(1,2,3))\n",
    "    1.7320508075688772\n",
    "    \"\"\"\n",
    "    n = len(x)\n",
    "    return euclid_norm( (x[i]-y[i] for i in range(n)) )"
   ]
  },
  {
   "cell_type": "markdown",
   "metadata": {},
   "source": [
    "### 1.1.2 Comments about the section\n",
    "\n",
    "The problems encountered here required some amount of cleverness which isn't a good sign from the first chapter. We have very knowledge and intuition about these types of problems, but even then some questions (1.1.6.a.1 and 1.1.8.b) temporarily stumped us.\n",
    "\n",
    "\n",
    "\n",
    "## 1.2 Subsets of Euclidean Space\n",
    "\n",
    "Lorem Ipsum\n",
    "\n",
    "## 1.3 Functions and Continuity\n",
    "\n",
    "Lorem Ipsum"
   ]
  }
 ],
 "metadata": {
  "kernelspec": {
   "display_name": "Python 3",
   "language": "python",
   "name": "python3"
  },
  "language_info": {
   "codemirror_mode": {
    "name": "ipython",
    "version": 3
   },
   "file_extension": ".py",
   "mimetype": "text/x-python",
   "name": "python",
   "nbconvert_exporter": "python",
   "pygments_lexer": "ipython3",
   "version": "3.6.8"
  }
 },
 "nbformat": 4,
 "nbformat_minor": 2
}
